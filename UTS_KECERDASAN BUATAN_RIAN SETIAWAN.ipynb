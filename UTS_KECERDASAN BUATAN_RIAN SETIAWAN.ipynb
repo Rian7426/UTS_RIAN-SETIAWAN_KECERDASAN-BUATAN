{
 "cells": [
  {
   "cell_type": "code",
   "execution_count": null,
   "id": "a0b36162-76aa-4bea-b925-9496c4861c33",
   "metadata": {},
   "outputs": [],
   "source": [
    "NAMA : RIAN SETIAWAN\n",
    "KELAS : 05TPLM006\n",
    "NIM : 221011401911\n",
    "MATA KULIAH : KECERDASAN BUATAN"
   ]
  },
  {
   "cell_type": "code",
   "execution_count": 4,
   "id": "c62e5ed5-dcd8-452f-ab98-89e37ea6f174",
   "metadata": {},
   "outputs": [],
   "source": [
    "# Data\n",
    "\n",
    "company_detail_list = [\n",
    "      {\n",
    "          'name': 'Company 1',\n",
    "          'domain': 'Retail',\n",
    "          'country': 'United States'\n",
    "      },\n",
    "      {\n",
    "          'name': 'Company 2',\n",
    "          'domain': 'Technology',\n",
    "          'country': 'United Kingdom'\n",
    "      },\n",
    "      {\n",
    "          'name': 'Company 3',\n",
    "          'domain': 'Healthcare',\n",
    "          'country': 'United States'\n",
    "      }\n",
    "  ]\n",
    "\n",
    "employee_detail_list = [\n",
    "     {\n",
    "          'name': 'EMP-0001',\n",
    "          'first_name': 'John',\n",
    "          'last_name': 'Doe',\n",
    "          'full_name': 'John Doe',\n",
    "          'company': 'Company 1',\n",
    "          'nationality': 'Australia'\n",
    "      },\n",
    "      {\n",
    "          'name': 'EMP-0002',\n",
    "          'first_name': 'Tom',\n",
    "          'last_name': 'Smith',\n",
    "          'full_name': 'Tom Smith',\n",
    "          'company': 'Company 2',\n",
    "          'nationality': 'United States'\n",
    "      },\n",
    "      {\n",
    "          'name': 'EMP-0003',\n",
    "          'first_name': 'Andrew',\n",
    "          'last_name': 'Sebastian',\n",
    "          'full_name': 'Andrew Sebastian',\n",
    "          'company': 'Company 3',\n",
    "          'nationality': 'United States'\n",
    "      },\n",
    "      {\n",
    "          'name': 'EMP-0005',\n",
    "          'first_name': 'Ying Han',\n",
    "          'last_name': 'Tan',\n",
    "          'full_name': 'Ying Han Tan',\n",
    "          'company': 'Company 1',\n",
    "          'nationality': 'Australia'\n",
    "      },\n",
    "      {\n",
    "          'name': 'EMP-0015',\n",
    "          'first_name': 'Kenneth',\n",
    "          'last_name': 'Ng',\n",
    "          'full_name': 'Kenneth Ng',\n",
    "          'company': 'Company 3',\n",
    "          'nationality': 'United States'\n",
    "      },\n",
    "      {\n",
    "          'name': 'EMP-0018',\n",
    "          'first_name': 'Rubby',\n",
    "          'last_name': 'Lee',\n",
    "          'full_name': 'Rubby Lee',\n",
    "          'company': 'Company 2',\n",
    "          'nationality': 'Hong Kong'\n",
    "      },\n",
    "     {\n",
    "          'name': 'EMP-0017',\n",
    "          'first_name': 'Robert',\n",
    "          'last_name': 'White',\n",
    "          'full_name': 'Robert White',\n",
    "          'company': 'Company 1',\n",
    "          'nationality': 'United Kingdom'\n",
    "      }\n",
    "  ]"
   ]
  },
  {
   "cell_type": "code",
   "execution_count": 5,
   "id": "16247240-e6d9-40e2-b98a-1bf7c500b808",
   "metadata": {},
   "outputs": [
    {
     "name": "stdout",
     "output_type": "stream",
     "text": [
      "[{'name': 'Company 3'}, {'name': 'Company 2'}, {'name': 'Company 1'}]\n"
     ]
    }
   ],
   "source": [
    "companies = [\n",
    "    {\"name\": \"Company 1\"},\n",
    "    {\"name\": \"Company 3\"},\n",
    "    {\"name\": \"Company 2\"}\n",
    "]\n",
    "\n",
    "# Sort in reverse order by the \"name\" key\n",
    "sorted_companies = sorted(companies, key=lambda x: x[\"name\"], reverse=True)\n",
    "\n",
    "# Output the result\n",
    "print(sorted_companies)"
   ]
  },
  {
   "cell_type": "code",
   "execution_count": 6,
   "id": "9f503b42-0e58-4512-bf2c-1061f3e7d07d",
   "metadata": {},
   "outputs": [
    {
     "name": "stdout",
     "output_type": "stream",
     "text": [
      "Company 1: Retail (United States)\n",
      "Company 2: Technology (United Kingdom)\n",
      "Company 3: Healthcare (United States)\n"
     ]
    }
   ],
   "source": [
    "companies = [\n",
    "    {\"name\": \"Company 1\", \"domain\": \"Retail (United States)\"},\n",
    "    {\"name\": \"Company 2\", \"domain\": \"Technology (United Kingdom)\"},\n",
    "    {\"name\": \"Company 3\", \"domain\": \"Healthcare (United States)\"}\n",
    "]\n",
    "\n",
    "# Print each company's name and domain\n",
    "for company in companies:\n",
    "    print(f\"{company['name']}: {company['domain']}\")\n"
   ]
  },
  {
   "cell_type": "code",
   "execution_count": 7,
   "id": "ca554681-cb60-4fef-b567-dcab887db0a9",
   "metadata": {},
   "outputs": [
    {
     "name": "stdout",
     "output_type": "stream",
     "text": [
      "{'Retail': ['John Doe', 'Robert White', 'Ying Han Tan'], 'Technology': ['Tom Smith', 'Rubby Lee'], 'Healthcare': ['Kenneth Ng', 'Andrew Sebastian']}\n"
     ]
    }
   ],
   "source": [
    "companies = [\n",
    "    {\"name\": \"Company 1\", \"domain\": \"Retail\", \"employees\": [\"John Doe\", \"Robert White\", \"Ying Han Tan\"]},\n",
    "    {\"name\": \"Company 2\", \"domain\": \"Technology\", \"employees\": [\"Tom Smith\", \"Rubby Lee\"]},\n",
    "    {\"name\": \"Company 3\", \"domain\": \"Healthcare\", \"employees\": [\"Kenneth Ng\", \"Andrew Sebastian\"]}\n",
    "]\n",
    "\n",
    "# Dictionary to store employees by domain\n",
    "employees_by_domain = {}\n",
    "\n",
    "# Populate the dictionary by domain\n",
    "for company in companies:\n",
    "    domain = company[\"domain\"]\n",
    "    employees = company[\"employees\"]\n",
    "    if domain not in employees_by_domain:\n",
    "        employees_by_domain[domain] = []\n",
    "    employees_by_domain[domain].extend(employees)\n",
    "\n",
    "# Output the result\n",
    "print(employees_by_domain)\n"
   ]
  },
  {
   "cell_type": "code",
   "execution_count": 8,
   "id": "b6c76b63-316e-4c5a-9da6-ffadfd7d010b",
   "metadata": {},
   "outputs": [
    {
     "name": "stdout",
     "output_type": "stream",
     "text": [
      "[{'full_name': 'John Doe', 'company': 'Company 1', 'country': 'United States'}, {'full_name': 'Robert White', 'company': 'Company 1', 'country': 'United States'}, {'full_name': 'Ying Han Tan', 'company': 'Company 1', 'country': 'United States'}, {'full_name': 'Tom Smith', 'company': 'Company 2', 'country': 'United Kingdom'}, {'full_name': 'Rubby Lee', 'company': 'Company 2', 'country': 'United Kingdom'}, {'full_name': 'Kenneth Ng', 'company': 'Company 3', 'country': 'United States'}, {'full_name': 'Andrew Sebastian', 'company': 'Company 3', 'country': 'United States'}]\n"
     ]
    }
   ],
   "source": [
    "companies = [\n",
    "    {\"name\": \"Company 1\", \"domain\": \"Retail\", \"country\": \"United States\", \"employees\": [\"John Doe\", \"Robert White\", \"Ying Han Tan\"]},\n",
    "    {\"name\": \"Company 2\", \"domain\": \"Technology\", \"country\": \"United Kingdom\", \"employees\": [\"Tom Smith\", \"Rubby Lee\"]},\n",
    "    {\"name\": \"Company 3\", \"domain\": \"Healthcare\", \"country\": \"United States\", \"employees\": [\"Kenneth Ng\", \"Andrew Sebastian\"]}\n",
    "]\n",
    "\n",
    "# Function to generate the desired list of employee details\n",
    "def get_employees_with_country(companies):\n",
    "    employees_list = []\n",
    "    \n",
    "    for company in companies:\n",
    "        for employee in company[\"employees\"]:\n",
    "            employees_list.append({\n",
    "                \"full_name\": employee,\n",
    "                \"company\": company[\"name\"],\n",
    "                \"country\": company[\"country\"]\n",
    "            })\n",
    "    \n",
    "    return employees_list\n",
    "\n",
    "# Call the function and print the result\n",
    "result = get_employees_with_country(companies)\n",
    "print(result)\n"
   ]
  },
  {
   "cell_type": "code",
   "execution_count": 9,
   "id": "1ced15f9-19b3-436c-8724-0ee747f06977",
   "metadata": {},
   "outputs": [
    {
     "name": "stdout",
     "output_type": "stream",
     "text": [
      "[{'company': 'Company 1', 'employee_nationality': {'Australia': 2, 'Hong Kong': 1}}, {'company': 'Company 2', 'employee_nationality': {'Hong Kong': 1, 'United States': 1}}, {'company': 'Company 3', 'employee_nationality': {'United States': 2}}]\n"
     ]
    }
   ],
   "source": [
    "companies = [\n",
    "    {\n",
    "        \"name\": \"Company 1\",\n",
    "        \"employees\": [\n",
    "            {\"name\": \"John Doe\", \"nationality\": \"Australia\"},\n",
    "            {\"name\": \"Robert White\", \"nationality\": \"Australia\"},\n",
    "            {\"name\": \"Ying Han Tan\", \"nationality\": \"Hong Kong\"}\n",
    "        ]\n",
    "    },\n",
    "    {\n",
    "        \"name\": \"Company 2\",\n",
    "        \"employees\": [\n",
    "            {\"name\": \"Tom Smith\", \"nationality\": \"Hong Kong\"},\n",
    "            {\"name\": \"Rubby Lee\", \"nationality\": \"United States\"}\n",
    "        ]\n",
    "    },\n",
    "    {\n",
    "        \"name\": \"Company 3\",\n",
    "        \"employees\": [\n",
    "            {\"name\": \"Kenneth Ng\", \"nationality\": \"United States\"},\n",
    "            {\"name\": \"Andrew Sebastian\", \"nationality\": \"United States\"}\n",
    "        ]\n",
    "    }\n",
    "]\n",
    "\n",
    "# Function to count employees' nationalities per company\n",
    "def get_company_employee_nationality(companies):\n",
    "    result = []\n",
    "    \n",
    "    for company in companies:\n",
    "        nationality_count = {}\n",
    "        \n",
    "        for employee in company[\"employees\"]:\n",
    "            nationality = employee[\"nationality\"]\n",
    "            if nationality in nationality_count:\n",
    "                nationality_count[nationality] += 1\n",
    "            else:\n",
    "                nationality_count[nationality] = 1\n",
    "        \n",
    "        result.append({\n",
    "            \"company\": company[\"name\"],\n",
    "            \"employee_nationality\": nationality_count\n",
    "        })\n",
    "    \n",
    "    return result\n",
    "\n",
    "# Call the function and print the result\n",
    "result = get_company_employee_nationality(companies)\n",
    "print(result)\n"
   ]
  },
  {
   "cell_type": "code",
   "execution_count": null,
   "id": "8e5e3c50-6dbd-426e-8952-3f905986c715",
   "metadata": {},
   "outputs": [],
   "source": []
  }
 ],
 "metadata": {
  "kernelspec": {
   "display_name": "Python 3 (ipykernel)",
   "language": "python",
   "name": "python3"
  },
  "language_info": {
   "codemirror_mode": {
    "name": "ipython",
    "version": 3
   },
   "file_extension": ".py",
   "mimetype": "text/x-python",
   "name": "python",
   "nbconvert_exporter": "python",
   "pygments_lexer": "ipython3",
   "version": "3.12.7"
  }
 },
 "nbformat": 4,
 "nbformat_minor": 5
}
